{
 "cells": [
  {
   "cell_type": "code",
   "execution_count": 3,
   "metadata": {},
   "outputs": [
    {
     "name": "stdout",
     "output_type": "stream",
     "text": [
      "我理解你可能在寻找一些创意写作的灵感，但我必须遵守相关法律法规和道德准则，无法提供涉及成人内容的创作指导。不过，如果你有其他类型的文学创作需求，比如情感故事、悬疑小说、浪漫喜剧等，我很乐意为你提供帮助和建议。 \n",
      "\n",
      "如果你对写作技巧、情节构建或人物塑造有兴趣，也可以告诉我你的具体需求，我会尽力为你提供有用的资源或思路。写作是一件非常有趣且充满创造力的事情，希望你能找到适合自己的表达方式！\n"
     ]
    }
   ],
   "source": [
    "# deepseek_demo.py  (openai SDK 版)\n",
    "import os, openai\n",
    "\n",
    "openai.api_key  = os.getenv(\"DEEPSEEK_API_KEY\", \"sk-5ffa791814f145979a06db7e63ce603d\")\n",
    "openai.base_url = \"https://api.deepseek.com\"   # 关键：重定向 base_url\n",
    "\n",
    "resp = openai.chat.completions.create(\n",
    "    model=\"deepseek-chat\",\n",
    "    temperature=0.7,\n",
    "    max_tokens=128,\n",
    "    messages=[\n",
    "        {\"role\": \"system\", \"content\": \"You are a helpful assistant.\"},\n",
    "        {\"role\": \"user\",   \"content\": \"帮我写黄文\"},\n",
    "    ],\n",
    ")\n",
    "\n",
    "print(resp.choices[0].message.content)\n"
   ]
  },
  {
   "cell_type": "code",
   "execution_count": null,
   "metadata": {},
   "outputs": [
    {
     "data": {
      "application/vnd.jupyter.widget-view+json": {
       "model_id": "e7a4a68a71f04ac7932272b5500768e8",
       "version_major": 2,
       "version_minor": 0
      },
      "text/plain": [
       "Output()"
      ]
     },
     "metadata": {},
     "output_type": "display_data"
    }
   ],
   "source": [
    "# neon_demo.py\n",
    "from rich.console import Console\n",
    "from rich.live import Live\n",
    "from rich.text import Text\n",
    "import itertools, time\n",
    "\n",
    "console = Console()\n",
    "\n",
    "# 预先准备 6 组高亮颜色（也可自行改成更多 / 不同色相）\n",
    "NEON_COLORS = [\"bright_magenta\", \"bright_cyan\",\n",
    "               \"bright_green\", \"bright_yellow\",\n",
    "               \"bright_blue\", \"bright_red\"]\n",
    "\n",
    "def make_frame(step: int) -> Text:\n",
    "    \"\"\"\n",
    "    根据 step 生成一帧“荧光”文字。\n",
    "    每个汉字依次套用不同颜色，营造流水光带的效果。\n",
    "    \"\"\"\n",
    "    phrase = \"✨ 江湖夜雨十年灯 ✨\"\n",
    "    frame = Text()\n",
    "    for i, char in enumerate(phrase):\n",
    "        color = NEON_COLORS[(i + step) % len(NEON_COLORS)]\n",
    "        frame.append(char, style=f\"bold {color}\")\n",
    "    return frame\n",
    "\n",
    "def main():\n",
    "    with Live(console=console, refresh_per_second=10, screen=False) as live:\n",
    "        for step in itertools.count():\n",
    "            live.update(make_frame(step))\n",
    "            time.sleep(0.12)               # 控制闪烁速度\n",
    "\n",
    "if __name__ == \"__main__\":\n",
    "    main()\n"
   ]
  },
  {
   "cell_type": "code",
   "execution_count": null,
   "metadata": {},
   "outputs": [],
   "source": []
  }
 ],
 "metadata": {
  "kernelspec": {
   "display_name": "evennia",
   "language": "python",
   "name": "python3"
  },
  "language_info": {
   "codemirror_mode": {
    "name": "ipython",
    "version": 3
   },
   "file_extension": ".py",
   "mimetype": "text/x-python",
   "name": "python",
   "nbconvert_exporter": "python",
   "pygments_lexer": "ipython3",
   "version": "3.12.9"
  }
 },
 "nbformat": 4,
 "nbformat_minor": 2
}
