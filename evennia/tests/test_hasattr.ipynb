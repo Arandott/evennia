{
 "cells": [
  {
   "cell_type": "code",
   "execution_count": 1,
   "metadata": {},
   "outputs": [],
   "source": [
    "class TestClass:\n",
    "    \"\"\"测试类\"\"\"\n",
    "    \n",
    "    def __init__(self):\n",
    "        \"\"\"初始化方法\"\"\"\n",
    "        self.name = \"测试对象\"\n",
    "        self.value = 100\n",
    "        \n",
    "    def get_name(self):\n",
    "        \"\"\"获取名称\"\"\"\n",
    "        return self.name\n",
    "        \n",
    "    def set_value(self, new_value):\n",
    "        \"\"\"设置值\"\"\"\n",
    "        self.value = new_value\n"
   ]
  },
  {
   "cell_type": "code",
   "execution_count": 2,
   "metadata": {},
   "outputs": [
    {
     "name": "stdout",
     "output_type": "stream",
     "text": [
      "测试存在的属性:\n",
      "hasattr(a, 'name'): True\n",
      "hasattr(a, 'value'): True\n",
      "hasattr(a, 'get_name'): True\n",
      "\n",
      "测试不存在的属性:\n",
      "hasattr(a, 'age'): False\n",
      "hasattr(a, 'address'): False\n",
      "hasattr(a, 'get_age'): False\n"
     ]
    }
   ],
   "source": [
    "a = TestClass()\n",
    "# 测试存在的属性\n",
    "print(\"测试存在的属性:\")\n",
    "print(f\"hasattr(a, 'name'): {hasattr(a, 'name')}\")  # True\n",
    "print(f\"hasattr(a, 'value'): {hasattr(a, 'value')}\")  # True\n",
    "print(f\"hasattr(a, 'get_name'): {hasattr(a, 'get_name')}\")  # True\n",
    "\n",
    "# 测试不存在的属性\n",
    "print(\"\\n测试不存在的属性:\")\n",
    "print(f\"hasattr(a, 'age'): {hasattr(a, 'age')}\")  # False\n",
    "print(f\"hasattr(a, 'address'): {hasattr(a, 'address')}\")  # False\n",
    "print(f\"hasattr(a, 'get_age'): {hasattr(a, 'get_age')}\")  # False\n"
   ]
  }
 ],
 "metadata": {
  "kernelspec": {
   "display_name": "evennia",
   "language": "python",
   "name": "python3"
  },
  "language_info": {
   "codemirror_mode": {
    "name": "ipython",
    "version": 3
   },
   "file_extension": ".py",
   "mimetype": "text/x-python",
   "name": "python",
   "nbconvert_exporter": "python",
   "pygments_lexer": "ipython3",
   "version": "3.12.9"
  }
 },
 "nbformat": 4,
 "nbformat_minor": 2
}
