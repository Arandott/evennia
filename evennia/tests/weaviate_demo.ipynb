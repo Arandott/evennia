{
 "cells": [
  {
   "cell_type": "markdown",
   "id": "f85b68ba",
   "metadata": {},
   "source": [
    "# Weaviate 快速上手示例\n",
    "\n",
    "本 Notebook 演示如何 **连接本地 Docker 中运行的 Weaviate（REST 端口 8080）**，  \n",
    "并完成以下操作：\n",
    "\n",
    "1. 连接测试（含两种连接方式，解决 gRPC 端口问题）  \n",
    "2. 创建最简单的 `Document` Collection（向量器设为 `none`，手动写入向量）  \n",
    "3. 使用 Sentence Transformers 生成向量并批量插入样例数据  \n",
    "4. 进行向量检索 (`near_vector`) 与属性过滤检索 (`where`)  \n",
    "5. 给出常见问题与清理资源的示例  \n",
    "\n",
    "> **前置条件**  \n",
    "> - Docker 中的 Weaviate 已映射端口：  \n",
    ">   - REST: `8080:8080`  \n",
    ">   - （可选）gRPC: `50051:50051` —— 如果未映射，请使用 *方式 B* 连接；  \n",
    "> - Python ≥3.9 环境，并可 `pip install`；  \n",
    "> - 如需使用内置 `text2vec-openai` 向量器，请先在环境变量里设置 `OPENAI_API_KEY`，然后可去掉手动向量代码。  \n"
   ]
  },
  {
   "cell_type": "code",
   "execution_count": 17,
   "id": "13c3a30b",
   "metadata": {},
   "outputs": [
    {
     "name": "stdout",
     "output_type": "stream",
     "text": [
      "\n",
      "=== 当前 Collections ===\n"
     ]
    }
   ],
   "source": [
    "import weaviate, json\n",
    "\n",
    "client = weaviate.connect_to_local(host=\"localhost\", port=8080, grpc_port=50051)\n",
    "\n",
    "print(\"\\n=== 当前 Collections ===\")\n",
    "for col_meta in client.collections.list_all():   # 返回 List[CollectionMeta]\n",
    "    name   = col_meta.name\n",
    "    dim    = col_meta.vector_index_config.dimensions\n",
    "    vecmod = col_meta.vectorizer_config.vectorizer\n",
    "    collection = client.collections.get(name)\n",
    "\n",
    "    total = collection.data.count()\n",
    "    print(f\"- {name}  | 对象 {total} 条 | 维度 {dim} | vectorizer={vecmod}\")\n",
    "\n",
    "    # 抽样 2 条看看字段\n",
    "    sample = collection.query.fetch_objects(limit=2)\n",
    "    for obj in sample.objects:\n",
    "        print(\"  •\", json.dumps(obj.properties, ensure_ascii=False))\n"
   ]
  },
  {
   "cell_type": "code",
   "execution_count": null,
   "id": "417cb9f3",
   "metadata": {},
   "outputs": [
    {
     "name": "stdout",
     "output_type": "stream",
     "text": [
      "Weaviate 是否就绪: True\n"
     ]
    },
    {
     "name": "stderr",
     "output_type": "stream",
     "text": [
      "/home/kapibala/miniconda3/envs/evennia/lib/python3.12/site-packages/weaviate/warnings.py:314: ResourceWarning: Con004: The connection to Weaviate was not closed properly. This can lead to memory leaks.\n",
      "            Please make sure to close the connection using `client.close()`.\n",
      "  warnings.warn(\n",
      "/tmp/ipykernel_1519208/4196431880.py:4: ResourceWarning: unclosed <socket.socket fd=77, family=2, type=1, proto=6, laddr=('127.0.0.1', 33948), raddr=('127.0.0.1', 8080)>\n",
      "  client = weaviate.connect_to_local(\n",
      "ResourceWarning: Enable tracemalloc to get the object allocation traceback\n"
     ]
    }
   ],
   "source": [
    "import weaviate\n",
    "\n",
    "# 方式 A：已映射 gRPC 端口 50051（推荐）\n",
    "client = weaviate.connect_to_local(\n",
    "    host=\"localhost\",\n",
    "    port=8080,\n",
    "\n",
    ")\n",
    "\n",
    "# 如果 **没有** 映射 50051，可使用跳过启动检查的方式 B：\n",
    "# client = weaviate.connect_to_local(\n",
    "#     host=\"localhost\",\n",
    "#     port=8080,\n",
    "#     skip_init_checks=True\n",
    "# )\n",
    "\n",
    "print(\"Weaviate 是否就绪:\", client.is_ready())"
   ]
  },
  {
   "cell_type": "code",
   "execution_count": 19,
   "id": "b655b206",
   "metadata": {},
   "outputs": [
    {
     "name": "stdout",
     "output_type": "stream",
     "text": [
      "已创建 Collection: Document\n"
     ]
    },
    {
     "name": "stderr",
     "output_type": "stream",
     "text": [
      "/home/kapibala/miniconda3/envs/evennia/lib/python3.12/site-packages/weaviate/collections/classes/config.py:1975: PydanticDeprecatedSince211: Accessing the 'model_fields' attribute on the instance is deprecated. Instead, you should access this attribute from the model class. Deprecated in Pydantic V2.11 to be removed in V3.0.\n",
      "  for cls_field in self.model_fields:\n"
     ]
    }
   ],
   "source": [
    "import weaviate.classes.config as wvc\n",
    "\n",
    "COLLECTION = \"Document\"\n",
    "\n",
    "if not client.collections.exists(COLLECTION):\n",
    "    client.collections.create(\n",
    "        name=COLLECTION,\n",
    "        properties=[\n",
    "            wvc.Property(name=\"title\", data_type=wvc.DataType.TEXT),\n",
    "            wvc.Property(name=\"text\", data_type=wvc.DataType.TEXT),\n",
    "        ],\n",
    "        vectorizer_config=wvc.Configure.Vectorizer.none()  # 手动向量\n",
    "    )\n",
    "    print(f\"已创建 Collection: {COLLECTION}\")\n",
    "else:\n",
    "    print(f\"Collection '{COLLECTION}' 已存在\")"
   ]
  },
  {
   "cell_type": "code",
   "execution_count": 20,
   "id": "601a71a8",
   "metadata": {},
   "outputs": [
    {
     "name": "stderr",
     "output_type": "stream",
     "text": [
      "/tmp/ipykernel_1519208/26139997.py:21: ResourceWarning: unclosed <socket.socket fd=65, family=2, type=1, proto=6, laddr=('127.0.0.1', 49394), raddr=('127.0.0.1', 8080)>\n",
      "  collection = client.collections.get(COLLECTION)\n",
      "ResourceWarning: Enable tracemalloc to get the object allocation traceback\n"
     ]
    },
    {
     "name": "stdout",
     "output_type": "stream",
     "text": [
      "样例数据已插入，共: 3\n"
     ]
    }
   ],
   "source": [
    "import os\n",
    "from langchain_community.embeddings import ZhipuAIEmbeddings\n",
    "\n",
    "# ① 初始化智谱 Embedding 对象\n",
    "embedder = ZhipuAIEmbeddings(\n",
    "    model=\"embedding-3\",     # 智谱最新 text2vec 模型\n",
    "    dimensions=1024,          # 可选：1024/768/512，默认 1024\n",
    "    api_key=\"8725cd11e5cc4c56aabc5142442e59f6.IceSidZVpsp39Mj3\"  # 如未设置 env，可主动传\n",
    ")\n",
    "\n",
    "# ② 准备待写入数据\n",
    "docs = [\n",
    "    {\"title\": \"Weaviate Quickstart\",\n",
    "     \"text\": \"Weaviate is a vector database built to scale your ML applications.\"},\n",
    "    {\"title\": \"Evennia MUD Engine\",\n",
    "     \"text\": \"Evennia is an open-source Python library for creating online text games.\"},\n",
    "    {\"title\": \"Python Dataclasses\",\n",
    "     \"text\": \"Dataclasses make it easier to create classes for storing data in Python.\"}\n",
    "]\n",
    "\n",
    "collection = client.collections.get(COLLECTION)\n",
    "\n",
    "# ③ 生成向量并写入 Weaviate\n",
    "for d in docs:\n",
    "    vec = embedder.embed_query(d[\"text\"])   # 单条文本 → 1024 维向量\n",
    "    collection.data.insert(properties=d, vector=vec)\n",
    "\n",
    "print(\"样例数据已插入，共:\",\n",
    "      collection.aggregate.over_all().total_count)\n"
   ]
  },
  {
   "cell_type": "code",
   "execution_count": 6,
   "id": "73b7f250",
   "metadata": {},
   "outputs": [
    {
     "ename": "NameError",
     "evalue": "name 'collection' is not defined",
     "output_type": "error",
     "traceback": [
      "\u001b[31m---------------------------------------------------------------------------\u001b[39m",
      "\u001b[31mNameError\u001b[39m                                 Traceback (most recent call last)",
      "\u001b[36mCell\u001b[39m\u001b[36m \u001b[39m\u001b[32mIn[6]\u001b[39m\u001b[32m, line 7\u001b[39m\n\u001b[32m      4\u001b[39m title_has_python = Filter.by_property(\u001b[33m\"\u001b[39m\u001b[33mtitle\u001b[39m\u001b[33m\"\u001b[39m).contains_any([\u001b[33m\"\u001b[39m\u001b[33mPython\u001b[39m\u001b[33m\"\u001b[39m])\n\u001b[32m      6\u001b[39m \u001b[38;5;66;03m# ② 取前 5 条匹配对象\u001b[39;00m\n\u001b[32m----> \u001b[39m\u001b[32m7\u001b[39m resp = \u001b[43mcollection\u001b[49m.query.fetch_objects(\n\u001b[32m      8\u001b[39m     filters=title_has_python,\n\u001b[32m      9\u001b[39m     limit=\u001b[32m5\u001b[39m\n\u001b[32m     10\u001b[39m )\n\u001b[32m     12\u001b[39m \u001b[38;5;28mprint\u001b[39m(\u001b[33m\"\u001b[39m\u001b[33m含有 \u001b[39m\u001b[33m'\u001b[39m\u001b[33mPython\u001b[39m\u001b[33m'\u001b[39m\u001b[33m 的条目：\u001b[39m\u001b[33m\"\u001b[39m)\n\u001b[32m     13\u001b[39m \u001b[38;5;28;01mfor\u001b[39;00m obj \u001b[38;5;129;01min\u001b[39;00m resp.objects:\n",
      "\u001b[31mNameError\u001b[39m: name 'collection' is not defined"
     ]
    }
   ],
   "source": [
    "from weaviate.classes.query import Filter\n",
    "\n",
    "# ① 构造过滤器：title 字段包含 “Python”\n",
    "title_has_python = Filter.by_property(\"title\").contains_any([\"Python\"])\n",
    "\n",
    "# ② 取前 5 条匹配对象\n",
    "resp = collection.query.fetch_objects(\n",
    "    filters=title_has_python,\n",
    "    limit=5\n",
    ")\n",
    "\n",
    "print(\"含有 'Python' 的条目：\")\n",
    "for obj in resp.objects:\n",
    "    print(\"•\", obj.properties[\"title\"])\n"
   ]
  },
  {
   "cell_type": "code",
   "execution_count": 12,
   "id": "147ee447",
   "metadata": {},
   "outputs": [
    {
     "name": "stdout",
     "output_type": "stream",
     "text": [
      "=== 当前 Collections ===\n",
      "- BattleKnowledge       对象: 20     维度: 1\n",
      "  • 【剑法招式】 - 一剑封喉：迅疾如电的致命一击，专攻要害 - 剑气纵横：以内力催动剑气，远程攻击 -…\n",
      "  • ### 费德勒简介 罗杰·费德勒（Roger Federer，1981 年 8 月 8…\n",
      "  • > **武器推荐**： > *传奇拍* **“Pro Staff RF97”** ——…\n",
      "  • 【攻击效果描述】 - 命中要害：招式精准击中敌人弱点 - 力量爆发：全力一击展现强大威力 -…\n",
      "  • 【剑法招式】 - 一剑封喉：迅疾如电的致命一击，专攻要害 - 剑气纵横：以内力催动剑气，远程攻击 -…\n",
      "  • 【剑客特征】 - 身法飘逸，如风中柳絮 - 剑光闪烁，寒光逼人 - 气质超然，有仙风道骨 - 出手果断，招招致命…\n",
      "  • 【攻击效果描述】 - 命中要害：招式精准击中敌人弱点 - 力量爆发：全力一击展现强大威力 -…\n",
      "  • | 招式名称 | 类型 | 灵感来源 | 效果示例（数值可按你游戏平衡调整） | | ------------ |…\n",
      "  • 【攻击效果描述】 - 命中要害：招式精准击中敌人弱点 - 力量爆发：全力一击展现强大威力 -…\n",
      "  • | 招式名称 | 类型 | 灵感来源 | 效果示例（数值可按你游戏平衡调整） | | ------------ |…\n",
      "  • 【剑法招式】 - 一剑封喉：迅疾如电的致命一击，专攻要害 - 剑气纵横：以内力催动剑气，远程攻击 -…\n",
      "  • * 投资并深度参与瑞士运动品牌 **On Running**，协助设计 “The ROGER Pro” 鞋款；公司…\n",
      "  • 【剑客特征】 - 身法飘逸，如风中柳絮 - 剑光闪烁，寒光逼人 - 气质超然，有仙风道骨 - 出手果断，招招致命…\n",
      "  • 【攻击效果描述】 - 命中要害：招式精准击中敌人弱点 - 力量爆发：全力一击展现强大威力 -…\n",
      "  • 【剑客特征】 - 身法飘逸，如风中柳絮 - 剑光闪烁，寒光逼人 - 气质超然，有仙风道骨 - 出手果断，招招致命…\n",
      "  • > **武器推荐**： > *传奇拍* **“Pro Staff RF97”** ——…\n",
      "  • ### 费德勒简介 罗杰·费德勒（Roger Federer，1981 年 8 月 8…\n",
      "  • 【剑法招式】 - 一剑封喉：迅疾如电的致命一击，专攻要害 - 剑气纵横：以内力催动剑气，远程攻击 -…\n",
      "  • * 投资并深度参与瑞士运动品牌 **On Running**，协助设计 “The ROGER Pro” 鞋款；公司…\n",
      "  • 【剑客特征】 - 身法飘逸，如风中柳絮 - 剑光闪烁，寒光逼人 - 气质超然，有仙风道骨 - 出手果断，招招致命…\n",
      "\n",
      "- Document              对象: 3      维度: 1\n",
      "  • \n",
      "  • \n",
      "  • \n",
      "\n"
     ]
    },
    {
     "name": "stderr",
     "output_type": "stream",
     "text": [
      "/tmp/ipykernel_1560674/2024230957.py:9: ResourceWarning: unclosed <socket.socket fd=75, family=2, type=1, proto=6, laddr=('127.0.0.1', 60870), raddr=('127.0.0.1', 8080)>\n",
      "  col = client.collections.get(name)\n",
      "ResourceWarning: Enable tracemalloc to get the object allocation traceback\n"
     ]
    }
   ],
   "source": [
    "import weaviate, json, textwrap\n",
    "\n",
    "client = weaviate.connect_to_local(host=\"localhost\",\n",
    "                                   port=8080,\n",
    "                                   grpc_port=50051)\n",
    "\n",
    "print(\"=== 当前 Collections ===\")\n",
    "for name in client.collections.list_all():           # 4.x: list[str]\n",
    "    col = client.collections.get(name)\n",
    "\n",
    "    # 1) 对象总数\n",
    "    total = col.aggregate.over_all().total_count\n",
    "\n",
    "    # 2) 取第一条对象看向量长度 → 维度\n",
    "    dim = \"?\"\n",
    "    try:\n",
    "        obj = col.query.fetch_objects(limit=1, include_vector=True).objects[0]\n",
    "        if obj.vector is not None:\n",
    "            dim = len(obj.vector)\n",
    "    except IndexError:\n",
    "        dim = \"0\"\n",
    "\n",
    "    print(f\"- {name:<20}  对象: {total:<5}  维度: {dim}\")\n",
    "\n",
    "    # 3) 再抽 2 条示例（不带向量，防止输出过大）\n",
    "    sample = col.query.fetch_objects(limit=20, include_vector=False)\n",
    "    for o in sample.objects:\n",
    "        preview = textwrap.shorten(o.properties.get(\"content\", \"\"), width=60, placeholder=\"…\")\n",
    "        print(f\"  • {preview}\")\n",
    "    print()\n"
   ]
  },
  {
   "cell_type": "code",
   "execution_count": 19,
   "id": "b32cc5ca",
   "metadata": {},
   "outputs": [
    {
     "name": "stdout",
     "output_type": "stream",
     "text": [
      "=== 搜索查询 ===\n",
      "查询文本:  罗杰·费德勒（Roger Federer，1981 年生）被誉为史上最杰出的男子网球选手之一，职业生涯共夺得 20 座大满贯单打冠军、103 个 ATP 单打冠军，并累积 310 周世界第一（其中连续 237 周创纪录）他于 2022 年正式退役后，仍活跃于网球及公益领域：继续担任拉沃尔杯的联合创办人兼全球大使，并通过“罗杰·费德勒基金会”资助南部非洲与瑞士的儿童教育项目。2025 年，他还受邀为传奇赛事——勒芒 24 小时耐力赛挥动起跑旗，延续跨界影响力 This is User #1. 剑 剑 战斗 攻击 招式 武器\n",
      "\n",
      "查询向量维度: 1024\n",
      "\n",
      "=== 搜索结果 ===\n",
      "找到 5 个相关结果:\n",
      "\n",
      "{'creation_time': None, 'last_update_time': None, 'distance': None, 'certainty': None, 'score': 0.0, 'explain_score': None, 'is_consistent': None, 'rerank_score': None}\n",
      "--- 结果 1 (相似度: N/A) ---\n",
      "  ### 费德勒简介  罗杰·费德勒（Roger Federer，1981 年 8 月 8 日生于瑞士巴塞尔）被誉为网坛的“优雅大师”。自 1998\n",
      "  年转入职业赛场起，他以流畅的一手单反、精准的发球落点和行云流水的步伐征服观众，累计 20 座大满贯男单冠军、310 周世界第一（其中 237\n",
      "  周连续），并与纳达尔、德约科维奇共同缔造了“Big 3”时代。  * **创办 Laver Cup**：2017\n",
      "  年起担任赛事联席创办人兼股东，退役后仍是推广大使，2025 年赛事将在旧金山举行。([lavercup.com][1]) * **传奇谢幕**：2022 年\n",
      "  9 月 23 日伦敦 O₂ 体育馆，费德勒在 Laver Cup 与纳达尔搭档完成最后一战，赛后“泪别”场面震撼全球。([lavercup.com][2])\n",
      "  * **退役后的舞台**\n",
      "\n",
      "{'creation_time': None, 'last_update_time': None, 'distance': None, 'certainty': None, 'score': 0.0, 'explain_score': None, 'is_consistent': None, 'rerank_score': None}\n",
      "--- 结果 2 (相似度: N/A) ---\n",
      "  ### 费德勒简介  罗杰·费德勒（Roger Federer，1981 年 8 月 8 日生于瑞士巴塞尔）被誉为网坛的“优雅大师”。自 1998\n",
      "  年转入职业赛场起，他以流畅的一手单反、精准的发球落点和行云流水的步伐征服观众，累计 20 座大满贯男单冠军、310 周世界第一（其中 237\n",
      "  周连续），并与纳达尔、德约科维奇共同缔造了“Big 3”时代。  * **创办 Laver Cup**：2017\n",
      "  年起担任赛事联席创办人兼股东，退役后仍是推广大使，2025 年赛事将在旧金山举行。([lavercup.com][1]) * **传奇谢幕**：2022 年\n",
      "  9 月 23 日伦敦 O₂ 体育馆，费德勒在 Laver Cup 与纳达尔搭档完成最后一战，赛后“泪别”场面震撼全球。([lavercup.com][2])\n",
      "  * **退役后的舞台**\n",
      "\n",
      "{'creation_time': None, 'last_update_time': None, 'distance': None, 'certainty': None, 'score': 0.0, 'explain_score': None, 'is_consistent': None, 'rerank_score': None}\n",
      "--- 结果 3 (相似度: N/A) ---\n",
      "  * 投资并深度参与瑞士运动品牌 **On Running**，协助设计 “The ROGER Pro” 鞋款；公司 2025 年营收预期增长 27\n",
      "  %。([bloomberg.com][3])   * 受邀高尔夫名人赛、慈善表演赛，计划在 2025–2026\n",
      "  举办网球巡回表演赛以回馈球迷。([forbes.com][4])   *\n",
      "  仍频繁出现在大满贯看台，一次亮相即可点燃现场气氛，彰显人气。([news.com.au][5])   *\n",
      "  曾在访谈中坦言“怀念训练”，不排除偶尔重返球场参与表演。([si.com][6])  除此之外，费德勒与妻子米尔卡通过 **Roger Federer\n",
      "  Foundation** 资助南部非洲与瑞士的儿童教育项目，至今累计帮助 200 多万名儿童就学，凸显其场外影响力。  ---  ## 如果把费德勒做成\n",
      "  RPG 角色——可选招式设计\n",
      "\n",
      "{'creation_time': None, 'last_update_time': None, 'distance': None, 'certainty': None, 'score': 0.0, 'explain_score': None, 'is_consistent': None, 'rerank_score': None}\n",
      "--- 结果 4 (相似度: N/A) ---\n",
      "  * 投资并深度参与瑞士运动品牌 **On Running**，协助设计 “The ROGER Pro” 鞋款；公司 2025 年营收预期增长 27\n",
      "  %。([bloomberg.com][3])   * 受邀高尔夫名人赛、慈善表演赛，计划在 2025–2026\n",
      "  举办网球巡回表演赛以回馈球迷。([forbes.com][4])   *\n",
      "  仍频繁出现在大满贯看台，一次亮相即可点燃现场气氛，彰显人气。([news.com.au][5])   *\n",
      "  曾在访谈中坦言“怀念训练”，不排除偶尔重返球场参与表演。([si.com][6])  除此之外，费德勒与妻子米尔卡通过 **Roger Federer\n",
      "  Foundation** 资助南部非洲与瑞士的儿童教育项目，至今累计帮助 200 多万名儿童就学，凸显其场外影响力。  ---  ## 如果把费德勒做成\n",
      "  RPG 角色——可选招式设计\n",
      "\n",
      "{'creation_time': None, 'last_update_time': None, 'distance': None, 'certainty': None, 'score': 0.0, 'explain_score': None, 'is_consistent': None, 'rerank_score': None}\n",
      "--- 结果 5 (相似度: N/A) ---\n",
      "  | 招式名称         | 类型                  | 灵感来源       | 效果示例（数值可按你游戏平衡调整）\n",
      "  | | ------------ | ------------------- | ---------- |\n",
      "  ---------------------------------------------------------------------- | |\n",
      "  **ACE·制胜发球** | 主动 · 单体             | 费德勒超高一发成功率 | 对单个目标造成大威力物理伤害并 *100%* 附带 1\n",
      "  回合【眩晕】（“接不到球”）                             | | **单反–流光回旋**  | 主动 · 单体\n",
      "  | 标志性单手反手    | 物理伤害 150%，若目标有【加攻】或【加速】状态则额外驱散 1 个增益\n",
      "  | | **切削节奏**     | 主动 · 范围             | 变速切削控场     | 对所有敌人造成小伤害并施加【减速 30%】2\n",
      "  回合；己方获得【加速 20%】                                 | | **网前截击**     | 位移 · 爆发\n",
      "  | 前冲上网抢攻     | 向目标突进并立刻追加一次普通攻击；若命中处于【减速】状态的敌人，则伤害提高 50%\n",
      "  | | **草地之王**     | 被动                  | 8 冠温网      | 在“自然/草地”地图作战时，自身闪避率\n",
      "  +15%，暴击率 +10%                                      | | **灵巧步伐**     | 被动\n",
      "  | 轻盈移动       | 每回合开始时有 20% 概率自动触发【闪避】1 次，无视下一次物理攻击\n",
      "  | | **第 5 盘大师**  | 被动 · 触发             | 多次五盘大战胜率惊人 | 当自身 HP 首次低于 30% 时，立即恢复\n",
      "  25% 最大 HP 并获得【攻击 +20%】【韧性 +20%】3 回合（战斗中仅触发 1 次） | | **天鹅之舞**     | 主动 · 群体增益\n",
      "  | 场上优雅气场     | 为全队施加【士气高涨】：攻击/法强 +10%，持续 3 回合\n",
      "  | | **无形旋律**     | 终极 · 大范围            | “仿佛时间慢了下来” | 释放后，敌方全体行动条倒退\n",
      "  50%，自身立即获得额外 1 行动回合；冷却较长                                 | | **Big 3 羁绊** |\n",
      "  组合技（与纳达尔/德约角色共存时解锁） | 网坛三巨头      | 全体伤害 +8%，受到伤害 –8%；若三人同在场，额外每回合回复 5% HP\n",
      "  |\n",
      "\n",
      "=== Collection信息 ===\n",
      "BattleKnowledge collection总对象数: 20\n",
      "搜索完成！\n"
     ]
    }
   ],
   "source": [
    "#!/usr/bin/env python3\n",
    "# -*- coding: utf-8 -*-\n",
    "\n",
    "import weaviate\n",
    "import textwrap\n",
    "from langchain_community.embeddings import ZhipuAIEmbeddings\n",
    "\n",
    "def search_federer_context():\n",
    "    \"\"\"使用费德勒描述在BattleKnowledge collection中查找相关上下文\"\"\"\n",
    "    \n",
    "    # 连接到本地Weaviate实例\n",
    "    client = weaviate.connect_to_local(\n",
    "        host=\"localhost\", \n",
    "        port=8080, \n",
    "        grpc_port=50051\n",
    "    )\n",
    "    \n",
    "    try:\n",
    "        # 初始化智谱AI embedding模型（与notebook中保持一致）\n",
    "        embedder = ZhipuAIEmbeddings(\n",
    "            model=\"embedding-3\",\n",
    "            dimensions=1024,\n",
    "            api_key=\"8725cd11e5cc4c56aabc5142442e59f6.IceSidZVpsp39Mj3\"\n",
    "        )\n",
    "        \n",
    "        # 查询文本\n",
    "        query_text = \" 罗杰·费德勒（Roger Federer，1981 年生）被誉为史上最杰出的男子网球选手之一，职业生涯共夺得 20 座大满贯单打冠军、103 个 ATP 单打冠军，并累积 310 周世界第一（其中连续 237 周创纪录）他于 2022 年正式退役后，仍活跃于网球及公益领域：继续担任拉沃尔杯的联合创办人兼全球大使，并通过“罗杰·费德勒基金会”资助南部非洲与瑞士的儿童教育项目。2025 年，他还受邀为传奇赛事——勒芒 24 小时耐力赛挥动起跑旗，延续跨界影响力 This is User #1. 剑 剑 战斗 攻击 招式 武器\"\n",
    "        \n",
    "        print(\"=== 搜索查询 ===\")\n",
    "        print(f\"查询文本: {query_text}\")\n",
    "        print()\n",
    "        \n",
    "        # 生成查询向量\n",
    "        query_vector = embedder.embed_query(query_text)\n",
    "        print(f\"查询向量维度: {len(query_vector)}\")\n",
    "        print()\n",
    "        \n",
    "        # 获取BattleKnowledge collection\n",
    "        collection = client.collections.get(\"BattleKnowledge\")\n",
    "        \n",
    "        # 执行向量相似性搜索\n",
    "        response = collection.query.near_vector(\n",
    "            near_vector=query_vector,\n",
    "            limit=5,  # 返回最相关的5个结果\n",
    "            return_metadata=[\"score\"]  # 返回相似度分数\n",
    "        )\n",
    "        \n",
    "        print(\"=== 搜索结果 ===\")\n",
    "        print(f\"找到 {len(response.objects)} 个相关结果:\\n\")\n",
    "        \n",
    "        for i, obj in enumerate(response.objects, 1):\n",
    "            # 获取相似度分数\n",
    "            print(vars(obj.metadata))\n",
    "            score = obj.metadata.score if obj.metadata and obj.metadata.score else \"N/A\"\n",
    "            \n",
    "            print(f\"--- 结果 {i} (相似度: {score}) ---\")\n",
    "            \n",
    "            # 获取内容并格式化显示\n",
    "            content = obj.properties.get(\"content\", \"无内容\")\n",
    "            \n",
    "            # 使用textwrap格式化长文本\n",
    "            wrapped_content = textwrap.fill(content, width=80, \n",
    "                                          initial_indent=\"  \", \n",
    "                                          subsequent_indent=\"  \")\n",
    "            print(wrapped_content)\n",
    "            print()\n",
    "        \n",
    "        # 显示collection的总体信息\n",
    "        total_objects = collection.aggregate.over_all().total_count\n",
    "        print(f\"=== Collection信息 ===\")\n",
    "        print(f\"BattleKnowledge collection总对象数: {total_objects}\")\n",
    "        print(\"搜索完成！\")\n",
    "        \n",
    "    except Exception as e:\n",
    "        print(f\"搜索过程中出现错误: {e}\")\n",
    "        import traceback\n",
    "        traceback.print_exc()\n",
    "    \n",
    "    finally:\n",
    "        # 关闭连接\n",
    "        client.close()\n",
    "\n",
    "if __name__ == \"__main__\":\n",
    "    search_federer_context()"
   ]
  }
 ],
 "metadata": {
  "kernelspec": {
   "display_name": "evennia",
   "language": "python",
   "name": "python3"
  },
  "language_info": {
   "codemirror_mode": {
    "name": "ipython",
    "version": 3
   },
   "file_extension": ".py",
   "mimetype": "text/x-python",
   "name": "python",
   "nbconvert_exporter": "python",
   "pygments_lexer": "ipython3",
   "version": "3.12.9"
  }
 },
 "nbformat": 4,
 "nbformat_minor": 5
}
