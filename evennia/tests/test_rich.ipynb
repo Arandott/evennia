{
 "cells": [
  {
   "cell_type": "code",
   "execution_count": 1,
   "metadata": {},
   "outputs": [
    {
     "data": {
      "text/html": [
       "<pre style=\"white-space:pre;overflow-x:auto;line-height:normal;font-family:Menlo,'DejaVu Sans Mono',consolas,'Courier New',monospace\"><span style=\"color: #00ff00; text-decoration-color: #00ff00\">──────────────────────────────────────────── </span><span style=\"color: #800000; text-decoration-color: #800000; font-weight: bold\">Rich Demo – 核心亮点一览</span><span style=\"color: #00ff00; text-decoration-color: #00ff00\"> ─────────────────────────────────────────────</span>\n",
       "</pre>\n"
      ],
      "text/plain": [
       "\u001b[92m──────────────────────────────────────────── \u001b[0m\u001b[1;31mRich Demo – 核心亮点一览\u001b[0m\u001b[92m ─────────────────────────────────────────────\u001b[0m\n"
      ]
     },
     "metadata": {},
     "output_type": "display_data"
    },
    {
     "data": {
      "text/html": [
       "<pre style=\"white-space:pre;overflow-x:auto;line-height:normal;font-family:Menlo,'DejaVu Sans Mono',consolas,'Courier New',monospace\"><span style=\"color: #800080; text-decoration-color: #800080; font-weight: bold\">Hello</span> Rich！这是一段 <span style=\"font-style: italic\">富文本</span> 输出 🚀\n",
       "</pre>\n"
      ],
      "text/plain": [
       "\u001b[1;35mHello\u001b[0m Rich！这是一段 \u001b[3m富文本\u001b[0m 输出 🚀\n"
      ]
     },
     "metadata": {},
     "output_type": "display_data"
    },
    {
     "data": {
      "text/html": [
       "<pre style=\"white-space:pre;overflow-x:auto;line-height:normal;font-family:Menlo,'DejaVu Sans Mono',consolas,'Courier New',monospace\"><span style=\"font-style: italic\">               Star Wars 票房示例                </span>\n",
       "┏━━━━━━┳━━━━━━━━━━━━━━━━━━━━━━━━━┳━━━━━━━━━━━━━━┓\n",
       "┃<span style=\"font-weight: bold\"> 上映 </span>┃<span style=\"font-weight: bold\"> 片名                    </span>┃<span style=\"font-weight: bold\">     全球票房 </span>┃\n",
       "┡━━━━━━╇━━━━━━━━━━━━━━━━━━━━━━━━━╇━━━━━━━━━━━━━━┩\n",
       "│<span style=\"color: #008080; text-decoration-color: #008080\"> 1977 </span>│<span style=\"color: #800080; text-decoration-color: #800080\"> A New Hope              </span>│<span style=\"color: #008000; text-decoration-color: #008000\"> $775 398 007 </span>│\n",
       "├──────┼─────────────────────────┼──────────────┤\n",
       "│<span style=\"color: #008080; text-decoration-color: #008080\"> 1980 </span>│<span style=\"color: #800080; text-decoration-color: #800080\"> The Empire Strikes Back </span>│<span style=\"color: #008000; text-decoration-color: #008000\"> $547 998 460 </span>│\n",
       "├──────┼─────────────────────────┼──────────────┤\n",
       "│<span style=\"color: #008080; text-decoration-color: #008080\"> 1983 </span>│<span style=\"color: #800080; text-decoration-color: #800080\"> Return of the Jedi      </span>│<span style=\"color: #008000; text-decoration-color: #008000\"> $475 106 177 </span>│\n",
       "└──────┴─────────────────────────┴──────────────┘\n",
       "</pre>\n"
      ],
      "text/plain": [
       "\u001b[3m               Star Wars 票房示例                \u001b[0m\n",
       "┏━━━━━━┳━━━━━━━━━━━━━━━━━━━━━━━━━┳━━━━━━━━━━━━━━┓\n",
       "┃\u001b[1m \u001b[0m\u001b[1m上映\u001b[0m\u001b[1m \u001b[0m┃\u001b[1m \u001b[0m\u001b[1m片名                   \u001b[0m\u001b[1m \u001b[0m┃\u001b[1m \u001b[0m\u001b[1m    全球票房\u001b[0m\u001b[1m \u001b[0m┃\n",
       "┡━━━━━━╇━━━━━━━━━━━━━━━━━━━━━━━━━╇━━━━━━━━━━━━━━┩\n",
       "│\u001b[36m \u001b[0m\u001b[36m1977\u001b[0m\u001b[36m \u001b[0m│\u001b[35m \u001b[0m\u001b[35mA New Hope             \u001b[0m\u001b[35m \u001b[0m│\u001b[32m \u001b[0m\u001b[32m$775 398 007\u001b[0m\u001b[32m \u001b[0m│\n",
       "├──────┼─────────────────────────┼──────────────┤\n",
       "│\u001b[36m \u001b[0m\u001b[36m1980\u001b[0m\u001b[36m \u001b[0m│\u001b[35m \u001b[0m\u001b[35mThe Empire Strikes Back\u001b[0m\u001b[35m \u001b[0m│\u001b[32m \u001b[0m\u001b[32m$547 998 460\u001b[0m\u001b[32m \u001b[0m│\n",
       "├──────┼─────────────────────────┼──────────────┤\n",
       "│\u001b[36m \u001b[0m\u001b[36m1983\u001b[0m\u001b[36m \u001b[0m│\u001b[35m \u001b[0m\u001b[35mReturn of the Jedi     \u001b[0m\u001b[35m \u001b[0m│\u001b[32m \u001b[0m\u001b[32m$475 106 177\u001b[0m\u001b[32m \u001b[0m│\n",
       "└──────┴─────────────────────────┴──────────────┘\n"
      ]
     },
     "metadata": {},
     "output_type": "display_data"
    },
    {
     "data": {
      "text/html": [
       "<pre style=\"white-space:pre;overflow-x:auto;line-height:normal;font-family:Menlo,'DejaVu Sans Mono',consolas,'Courier New',monospace\">╭────────────────────────────────────────────── Syntax Highlighting ──────────────────────────────────────────────╮\n",
       "│ <span style=\"color: #e3e3dd; text-decoration-color: #e3e3dd; background-color: #272822; font-weight: bold\">  </span><span style=\"color: #656660; text-decoration-color: #656660; background-color: #272822\">1 </span><span style=\"color: #66d9ef; text-decoration-color: #66d9ef; background-color: #272822\">def</span><span style=\"color: #f8f8f2; text-decoration-color: #f8f8f2; background-color: #272822\"> </span><span style=\"color: #a6e22e; text-decoration-color: #a6e22e; background-color: #272822\">fib</span><span style=\"color: #f8f8f2; text-decoration-color: #f8f8f2; background-color: #272822\">(n):</span><span style=\"background-color: #272822\">                                                                                                </span> │\n",
       "│ <span style=\"color: #e3e3dd; text-decoration-color: #e3e3dd; background-color: #272822; font-weight: bold\">  </span><span style=\"color: #656660; text-decoration-color: #656660; background-color: #272822\">2 </span><span style=\"color: #f8f8f2; text-decoration-color: #f8f8f2; background-color: #272822\">    </span><span style=\"color: #66d9ef; text-decoration-color: #66d9ef; background-color: #272822\">if</span><span style=\"color: #f8f8f2; text-decoration-color: #f8f8f2; background-color: #272822\"> n </span><span style=\"color: #ff4689; text-decoration-color: #ff4689; background-color: #272822\">&lt;</span><span style=\"color: #f8f8f2; text-decoration-color: #f8f8f2; background-color: #272822\"> </span><span style=\"color: #ae81ff; text-decoration-color: #ae81ff; background-color: #272822\">2</span><span style=\"color: #f8f8f2; text-decoration-color: #f8f8f2; background-color: #272822\">:</span><span style=\"background-color: #272822\">                                                                                              </span> │\n",
       "│ <span style=\"color: #e3e3dd; text-decoration-color: #e3e3dd; background-color: #272822; font-weight: bold\">  </span><span style=\"color: #656660; text-decoration-color: #656660; background-color: #272822\">3 </span><span style=\"color: #f8f8f2; text-decoration-color: #f8f8f2; background-color: #272822\">        </span><span style=\"color: #66d9ef; text-decoration-color: #66d9ef; background-color: #272822\">return</span><span style=\"color: #f8f8f2; text-decoration-color: #f8f8f2; background-color: #272822\"> n</span><span style=\"background-color: #272822\">                                                                                           </span> │\n",
       "│ <span style=\"color: #e3e3dd; text-decoration-color: #e3e3dd; background-color: #272822; font-weight: bold\">  </span><span style=\"color: #656660; text-decoration-color: #656660; background-color: #272822\">4 </span><span style=\"color: #f8f8f2; text-decoration-color: #f8f8f2; background-color: #272822\">    </span><span style=\"color: #66d9ef; text-decoration-color: #66d9ef; background-color: #272822\">return</span><span style=\"color: #f8f8f2; text-decoration-color: #f8f8f2; background-color: #272822\"> fib(n</span><span style=\"color: #ff4689; text-decoration-color: #ff4689; background-color: #272822\">-</span><span style=\"color: #ae81ff; text-decoration-color: #ae81ff; background-color: #272822\">1</span><span style=\"color: #f8f8f2; text-decoration-color: #f8f8f2; background-color: #272822\">) </span><span style=\"color: #ff4689; text-decoration-color: #ff4689; background-color: #272822\">+</span><span style=\"color: #f8f8f2; text-decoration-color: #f8f8f2; background-color: #272822\"> fib(n</span><span style=\"color: #ff4689; text-decoration-color: #ff4689; background-color: #272822\">-</span><span style=\"color: #ae81ff; text-decoration-color: #ae81ff; background-color: #272822\">2</span><span style=\"color: #f8f8f2; text-decoration-color: #f8f8f2; background-color: #272822\">)</span><span style=\"background-color: #272822\">                                                                             </span> │\n",
       "│ <span style=\"color: #e3e3dd; text-decoration-color: #e3e3dd; background-color: #272822; font-weight: bold\">  </span><span style=\"color: #656660; text-decoration-color: #656660; background-color: #272822\">5 </span><span style=\"background-color: #272822\">                                                                                                           </span> │\n",
       "╰─────────────────────────────────────────────────────────────────────────────────────────────────────────────────╯\n",
       "</pre>\n"
      ],
      "text/plain": [
       "╭────────────────────────────────────────────── Syntax Highlighting ──────────────────────────────────────────────╮\n",
       "│ \u001b[1;38;2;227;227;221;48;2;39;40;34m  \u001b[0m\u001b[38;2;101;102;96;48;2;39;40;34m1 \u001b[0m\u001b[38;2;102;217;239;48;2;39;40;34mdef\u001b[0m\u001b[38;2;248;248;242;48;2;39;40;34m \u001b[0m\u001b[38;2;166;226;46;48;2;39;40;34mfib\u001b[0m\u001b[38;2;248;248;242;48;2;39;40;34m(\u001b[0m\u001b[38;2;248;248;242;48;2;39;40;34mn\u001b[0m\u001b[38;2;248;248;242;48;2;39;40;34m)\u001b[0m\u001b[38;2;248;248;242;48;2;39;40;34m:\u001b[0m\u001b[48;2;39;40;34m                                                                                                \u001b[0m │\n",
       "│ \u001b[1;38;2;227;227;221;48;2;39;40;34m  \u001b[0m\u001b[38;2;101;102;96;48;2;39;40;34m2 \u001b[0m\u001b[38;2;248;248;242;48;2;39;40;34m    \u001b[0m\u001b[38;2;102;217;239;48;2;39;40;34mif\u001b[0m\u001b[38;2;248;248;242;48;2;39;40;34m \u001b[0m\u001b[38;2;248;248;242;48;2;39;40;34mn\u001b[0m\u001b[38;2;248;248;242;48;2;39;40;34m \u001b[0m\u001b[38;2;255;70;137;48;2;39;40;34m<\u001b[0m\u001b[38;2;248;248;242;48;2;39;40;34m \u001b[0m\u001b[38;2;174;129;255;48;2;39;40;34m2\u001b[0m\u001b[38;2;248;248;242;48;2;39;40;34m:\u001b[0m\u001b[48;2;39;40;34m                                                                                              \u001b[0m │\n",
       "│ \u001b[1;38;2;227;227;221;48;2;39;40;34m  \u001b[0m\u001b[38;2;101;102;96;48;2;39;40;34m3 \u001b[0m\u001b[38;2;248;248;242;48;2;39;40;34m        \u001b[0m\u001b[38;2;102;217;239;48;2;39;40;34mreturn\u001b[0m\u001b[38;2;248;248;242;48;2;39;40;34m \u001b[0m\u001b[38;2;248;248;242;48;2;39;40;34mn\u001b[0m\u001b[48;2;39;40;34m                                                                                           \u001b[0m │\n",
       "│ \u001b[1;38;2;227;227;221;48;2;39;40;34m  \u001b[0m\u001b[38;2;101;102;96;48;2;39;40;34m4 \u001b[0m\u001b[38;2;248;248;242;48;2;39;40;34m    \u001b[0m\u001b[38;2;102;217;239;48;2;39;40;34mreturn\u001b[0m\u001b[38;2;248;248;242;48;2;39;40;34m \u001b[0m\u001b[38;2;248;248;242;48;2;39;40;34mfib\u001b[0m\u001b[38;2;248;248;242;48;2;39;40;34m(\u001b[0m\u001b[38;2;248;248;242;48;2;39;40;34mn\u001b[0m\u001b[38;2;255;70;137;48;2;39;40;34m-\u001b[0m\u001b[38;2;174;129;255;48;2;39;40;34m1\u001b[0m\u001b[38;2;248;248;242;48;2;39;40;34m)\u001b[0m\u001b[38;2;248;248;242;48;2;39;40;34m \u001b[0m\u001b[38;2;255;70;137;48;2;39;40;34m+\u001b[0m\u001b[38;2;248;248;242;48;2;39;40;34m \u001b[0m\u001b[38;2;248;248;242;48;2;39;40;34mfib\u001b[0m\u001b[38;2;248;248;242;48;2;39;40;34m(\u001b[0m\u001b[38;2;248;248;242;48;2;39;40;34mn\u001b[0m\u001b[38;2;255;70;137;48;2;39;40;34m-\u001b[0m\u001b[38;2;174;129;255;48;2;39;40;34m2\u001b[0m\u001b[38;2;248;248;242;48;2;39;40;34m)\u001b[0m\u001b[48;2;39;40;34m                                                                             \u001b[0m │\n",
       "│ \u001b[1;38;2;227;227;221;48;2;39;40;34m  \u001b[0m\u001b[38;2;101;102;96;48;2;39;40;34m5 \u001b[0m\u001b[48;2;39;40;34m                                                                                                           \u001b[0m │\n",
       "╰─────────────────────────────────────────────────────────────────────────────────────────────────────────────────╯\n"
      ]
     },
     "metadata": {},
     "output_type": "display_data"
    },
    {
     "data": {
      "application/vnd.jupyter.widget-view+json": {
       "model_id": "f42cfe31d37d49509e44234b4bc1eed9",
       "version_major": 2,
       "version_minor": 0
      },
      "text/plain": [
       "Output()"
      ]
     },
     "metadata": {},
     "output_type": "display_data"
    },
    {
     "data": {
      "text/html": [
       "<pre style=\"white-space:pre;overflow-x:auto;line-height:normal;font-family:Menlo,'DejaVu Sans Mono',consolas,'Courier New',monospace\"></pre>\n"
      ],
      "text/plain": []
     },
     "metadata": {},
     "output_type": "display_data"
    },
    {
     "data": {
      "application/vnd.jupyter.widget-view+json": {
       "model_id": "f554cf58202c48a5bae07201eac1cc9d",
       "version_major": 2,
       "version_minor": 0
      },
      "text/plain": [
       "Output()"
      ]
     },
     "metadata": {},
     "output_type": "display_data"
    },
    {
     "data": {
      "text/html": [
       "<pre style=\"white-space:pre;overflow-x:auto;line-height:normal;font-family:Menlo,'DejaVu Sans Mono',consolas,'Courier New',monospace\"></pre>\n"
      ],
      "text/plain": []
     },
     "metadata": {},
     "output_type": "display_data"
    },
    {
     "data": {
      "text/html": [
       "<pre style=\"white-space:pre;overflow-x:auto;line-height:normal;font-family:Menlo,'DejaVu Sans Mono',consolas,'Courier New',monospace\"><span style=\"color: #7fbfbf; text-decoration-color: #7fbfbf\">[23:17:54] </span><span style=\"color: #008000; text-decoration-color: #008000\">Countdown finished!</span>                                                                     <a href=\"file:///tmp/ipykernel_650175/2403900894.py\" target=\"_blank\"><span style=\"color: #7f7f7f; text-decoration-color: #7f7f7f\">2403900894.py</span></a><span style=\"color: #7f7f7f; text-decoration-color: #7f7f7f\">:</span><a href=\"file:///tmp/ipykernel_650175/2403900894.py#70\" target=\"_blank\"><span style=\"color: #7f7f7f; text-decoration-color: #7f7f7f\">70</span></a>\n",
       "</pre>\n"
      ],
      "text/plain": [
       "\u001b[2;36m[23:17:54]\u001b[0m\u001b[2;36m \u001b[0m\u001b[32mCountdown finished!\u001b[0m                                                                     \u001b]8;id=939880;file:///tmp/ipykernel_650175/2403900894.py\u001b\\\u001b[2m2403900894.py\u001b[0m\u001b]8;;\u001b\\\u001b[2m:\u001b[0m\u001b]8;id=100034;file:///tmp/ipykernel_650175/2403900894.py#70\u001b\\\u001b[2m70\u001b[0m\u001b]8;;\u001b\\\n"
      ]
     },
     "metadata": {},
     "output_type": "display_data"
    },
    {
     "data": {
      "text/html": [
       "<pre style=\"white-space:pre;overflow-x:auto;line-height:normal;font-family:Menlo,'DejaVu Sans Mono',consolas,'Courier New',monospace\"><span style=\"color: #7fbfbf; text-decoration-color: #7fbfbf\">           </span><span style=\"color: #008000; text-decoration-color: #008000; font-weight: bold\">脚本演示完毕！</span>                                                                          <a href=\"file:///tmp/ipykernel_650175/2403900894.py\" target=\"_blank\"><span style=\"color: #7f7f7f; text-decoration-color: #7f7f7f\">2403900894.py</span></a><span style=\"color: #7f7f7f; text-decoration-color: #7f7f7f\">:</span><a href=\"file:///tmp/ipykernel_650175/2403900894.py#80\" target=\"_blank\"><span style=\"color: #7f7f7f; text-decoration-color: #7f7f7f\">80</span></a>\n",
       "</pre>\n"
      ],
      "text/plain": [
       "\u001b[2;36m          \u001b[0m\u001b[2;36m \u001b[0m\u001b[1;32m脚本演示完毕！\u001b[0m                                                                          \u001b]8;id=460138;file:///tmp/ipykernel_650175/2403900894.py\u001b\\\u001b[2m2403900894.py\u001b[0m\u001b]8;;\u001b\\\u001b[2m:\u001b[0m\u001b]8;id=262202;file:///tmp/ipykernel_650175/2403900894.py#80\u001b\\\u001b[2m80\u001b[0m\u001b]8;;\u001b\\\n"
      ]
     },
     "metadata": {},
     "output_type": "display_data"
    }
   ],
   "source": [
    "#!/usr/bin/env python3\n",
    "\"\"\"\n",
    "rich_demo.py – 一站式体验 Rich 的常用组件\n",
    "Author: ChatGPT (2025-06-09)\n",
    "\"\"\"\n",
    "from time import sleep\n",
    "\n",
    "# 所有高阶功能基本都挂在 rich.console.Console 上\n",
    "from rich.console import Console\n",
    "\n",
    "# 常用组件\n",
    "from rich.table import Table\n",
    "from rich.progress import track        # 进度条快速封装\n",
    "from rich.syntax import Syntax         # 代码高亮\n",
    "from rich.panel import Panel           # 带边框面板\n",
    "from rich.live import Live             # 实时刷新区块\n",
    "from rich.align import Align           # 对齐工具\n",
    "from rich.traceback import install     # 彩色异常回溯\n",
    "install(show_locals=True)\n",
    "\n",
    "console = Console()\n",
    "\n",
    "\n",
    "def demo_header():\n",
    "    \"\"\"彩色标题与基本打印\"\"\"\n",
    "    console.rule(\"[bold red]Rich Demo – 核心亮点一览\")\n",
    "    console.print(\n",
    "        \"[bold magenta]Hello[/] Rich！这是一段 [italic]富文本[/italic] 输出 :rocket:\"\n",
    "    )\n",
    "\n",
    "\n",
    "def demo_table():\n",
    "    \"\"\"表格（带彩色对齐/边框）\"\"\"\n",
    "    table = Table(title=\"Star Wars 票房示例\", show_lines=True)\n",
    "    table.add_column(\"上映\", justify=\"center\", style=\"cyan\", no_wrap=True)\n",
    "    table.add_column(\"片名\", style=\"magenta\")\n",
    "    table.add_column(\"全球票房\", justify=\"right\", style=\"green\")\n",
    "    table.add_row(\"1977\", \"A New Hope\", \"$775 398 007\")\n",
    "    table.add_row(\"1980\", \"The Empire Strikes Back\", \"$547 998 460\")\n",
    "    table.add_row(\"1983\", \"Return of the Jedi\", \"$475 106 177\")\n",
    "    console.print(table)\n",
    "\n",
    "\n",
    "def demo_syntax():\n",
    "    \"\"\"代码高亮 + Panel\"\"\"\n",
    "    code = \"\"\"\\\n",
    "def fib(n):\n",
    "    if n < 2:\n",
    "        return n\n",
    "    return fib(n-1) + fib(n-2)\n",
    "\"\"\"\n",
    "    syntax = Syntax(code, \"python\", line_numbers=True, theme=\"monokai\")\n",
    "    console.print(Panel(syntax, title=\"Syntax Highlighting\"))\n",
    "\n",
    "\n",
    "def demo_progress():\n",
    "    \"\"\"只用两行代码就能有漂亮进度条\"\"\"\n",
    "    for _ in track(range(20), description=\"Processing…\"):\n",
    "        sleep(0.05)\n",
    "\n",
    "\n",
    "def demo_live():\n",
    "    \"\"\"实时刷新区域：倒计时小示例\"\"\"\n",
    "    with Live(console=console, refresh_per_second=4) as live:\n",
    "        for i in range(5, 0, -1):\n",
    "            live.update(\n",
    "                Align.center(f\"[bold red]{i}\", vertical=\"middle\", height=3)\n",
    "            )\n",
    "            sleep(1)\n",
    "    console.log(\"[green]Countdown finished!\")\n",
    "\n",
    "\n",
    "def main():\n",
    "    demo_header()\n",
    "    demo_table()\n",
    "    demo_syntax()\n",
    "    demo_progress()\n",
    "    demo_live()\n",
    "    # 彩色日志（时间戳自动加上）\n",
    "    console.log(\"[bold green]脚本演示完毕！\")\n",
    "\n",
    "\n",
    "if __name__ == \"__main__\":\n",
    "    main()\n"
   ]
  },
  {
   "cell_type": "code",
   "execution_count": 2,
   "metadata": {},
   "outputs": [
    {
     "data": {
      "text/html": [
       "<pre style=\"white-space:pre;overflow-x:auto;line-height:normal;font-family:Menlo,'DejaVu Sans Mono',consolas,'Courier New',monospace\"><span style=\"color: #ff0000; text-decoration-color: #ff0000; font-weight: bold\">💖 HP [██████░░░░░░░░░░░░░░] </span><span style=\"color: #008080; text-decoration-color: #008080; font-weight: bold\">30</span><span style=\"color: #ff0000; text-decoration-color: #ff0000; font-weight: bold\">/</span><span style=\"color: #008080; text-decoration-color: #008080; font-weight: bold\">100</span>\n",
       "</pre>\n"
      ],
      "text/plain": [
       "\u001b[1;38;5;196m💖 HP \u001b[0m\u001b[1;38;5;196m[\u001b[0m\u001b[1;38;5;196m██████░░░░░░░░░░░░░░\u001b[0m\u001b[1;38;5;196m]\u001b[0m\u001b[1;38;5;196m \u001b[0m\u001b[1;36m30\u001b[0m\u001b[1;38;5;196m/\u001b[0m\u001b[1;36m100\u001b[0m\n"
      ]
     },
     "metadata": {},
     "output_type": "display_data"
    }
   ],
   "source": [
    "from rich.console import Console\n",
    "from rich.progress import BarColumn, Progress, TextColumn\n",
    "from rich.style import Style\n",
    "from rich.table import Table\n",
    "\n",
    "console = Console()\n",
    "\n",
    "def draw_hp_bar(current_hp, max_hp):\n",
    "    # 计算血量百分比\n",
    "    percent = current_hp / max_hp\n",
    "    bar_length = 20\n",
    "    filled_length = int(bar_length * percent)\n",
    "    \n",
    "    # 构建荧光红颜色的bar\n",
    "    filled = \"█\" * filled_length\n",
    "    empty = \"░\" * (bar_length - filled_length)\n",
    "\n",
    "    # 荧光红色样式（可以自定义为 bright_red / red3 / etc.）\n",
    "    hp_style = Style(color=\"red1\", bold=True)\n",
    "\n",
    "    # 使用 rich 渲染\n",
    "    console.print(f\"💖 HP [{filled}{empty}] {current_hp}/{max_hp}\", style=hp_style)\n",
    "\n",
    "# 示例调用\n",
    "draw_hp_bar(30, 100)\n"
   ]
  },
  {
   "cell_type": "code",
   "execution_count": 3,
   "metadata": {},
   "outputs": [
    {
     "data": {
      "application/vnd.jupyter.widget-view+json": {
       "model_id": "b993632275064e4782bb6835c5a05371",
       "version_major": 2,
       "version_minor": 0
      },
      "text/plain": [
       "Output()"
      ]
     },
     "metadata": {},
     "output_type": "display_data"
    },
    {
     "data": {
      "text/html": [
       "<pre style=\"white-space:pre;overflow-x:auto;line-height:normal;font-family:Menlo,'DejaVu Sans Mono',consolas,'Courier New',monospace\"></pre>\n"
      ],
      "text/plain": []
     },
     "metadata": {},
     "output_type": "display_data"
    }
   ],
   "source": [
    "import time\n",
    "from rich.live import Live\n",
    "from rich.console import Console\n",
    "from rich.text import Text\n",
    "\n",
    "console = Console()\n",
    "\n",
    "def make_hp_bar(current, total):\n",
    "    percent = current / total\n",
    "    bar_length = 20\n",
    "    filled = int(bar_length * percent)\n",
    "    empty = bar_length - filled\n",
    "    bar = \"█\" * filled + \"░\" * empty\n",
    "    return Text(f\"💖 HP [{bar}] {current}/{total}\", style=\"red1\")\n",
    "\n",
    "# 模拟从100HP减到0\n",
    "with Live(make_hp_bar(100, 100), refresh_per_second=10) as live:\n",
    "    for hp in range(100, -1, -5):\n",
    "        live.update(make_hp_bar(hp, 100))\n",
    "        time.sleep(0.1)\n"
   ]
  },
  {
   "cell_type": "code",
   "execution_count": 5,
   "metadata": {},
   "outputs": [
    {
     "data": {
      "text/html": [
       "<pre style=\"white-space:pre;overflow-x:auto;line-height:normal;font-family:Menlo,'DejaVu Sans Mono',consolas,'Courier New',monospace\"><span style=\"color: #800000; text-decoration-color: #800000; background-color: #ff0000; font-weight: bold\">🔥 CRITICAL HIT! 🔥</span>\r</pre>\n"
      ],
      "text/plain": [
       "\u001b[1;31;48;5;196m🔥 CRITICAL HIT! 🔥\u001b[0m\r"
      ]
     },
     "metadata": {},
     "output_type": "display_data"
    },
    {
     "data": {
      "text/html": [
       "<pre style=\"white-space:pre;overflow-x:auto;line-height:normal;font-family:Menlo,'DejaVu Sans Mono',consolas,'Courier New',monospace\"><span style=\"color: #800000; text-decoration-color: #800000; background-color: #ff00ff; font-weight: bold\">🔥 CRITICAL HIT! 🔥</span>\r</pre>\n"
      ],
      "text/plain": [
       "\u001b[1;31;48;5;201m🔥 CRITICAL HIT! 🔥\u001b[0m\r"
      ]
     },
     "metadata": {},
     "output_type": "display_data"
    }
   ],
   "source": [
    "from rich.console import Console\n",
    "from rich.text import Text\n",
    "import time\n",
    "\n",
    "console = Console()\n",
    "\n",
    "for i in range(0, 10, 5):\n",
    "    text = Text(\"🔥 CRITICAL HIT! 🔥\", style=f\"bold red on color({196 + i%20})\")\n",
    "    console.print(text, end=\"\\r\", soft_wrap=True)\n",
    "    time.sleep(0.05)\n"
   ]
  }
 ],
 "metadata": {
  "kernelspec": {
   "display_name": "evennia",
   "language": "python",
   "name": "python3"
  },
  "language_info": {
   "codemirror_mode": {
    "name": "ipython",
    "version": 3
   },
   "file_extension": ".py",
   "mimetype": "text/x-python",
   "name": "python",
   "nbconvert_exporter": "python",
   "pygments_lexer": "ipython3",
   "version": "3.12.9"
  }
 },
 "nbformat": 4,
 "nbformat_minor": 2
}
